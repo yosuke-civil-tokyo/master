{
 "cells": [
  {
   "cell_type": "code",
   "execution_count": 1,
   "metadata": {},
   "outputs": [],
   "source": [
    "import pandas as pd\n",
    "import numpy as np\n",
    "import matplotlib.pyplot as plt"
   ]
  },
  {
   "cell_type": "code",
   "execution_count": 54,
   "metadata": {},
   "outputs": [],
   "source": [
    "s1 = pd.read_csv(\"../data/modelData/model2/score.csv\")\n",
    "s2 = pd.read_csv(\"../data/modelData/model2/scoreAve_deepC.csv\")\n",
    "s3 = pd.read_csv(\"../data/modelData/model2/scoreAve_deep.csv\")\n",
    "s4 = pd.read_csv(\"../data/modelData/model2/scoreAve_thres.csv\")\n",
    "s5 = pd.read_csv(\"../data/modelData/model2/scoreAve_best.csv\")"
   ]
  },
  {
   "cell_type": "code",
   "execution_count": 55,
   "metadata": {},
   "outputs": [],
   "source": [
    "# output mean & std of sum of BIC, per model\n",
    "def mean_std_sumBIC(s):\n",
    "    column_bics = [col for col in s.columns if 'BIC' in col]\n",
    "    s['sumBIC'] = s[column_bics].mean(axis=1) / 20000\n",
    "    means = s.groupby('model')['sumBIC'].mean()\n",
    "    stds = s.groupby('model')['sumBIC'].std()\n",
    "    return means, stds"
   ]
  },
  {
   "cell_type": "code",
   "execution_count": 56,
   "metadata": {},
   "outputs": [],
   "source": [
    "m1, std1 = mean_std_sumBIC(s1)\n",
    "m2, std2 = mean_std_sumBIC(s2)\n",
    "m3, std3 = mean_std_sumBIC(s3)\n",
    "m4, std4 = mean_std_sumBIC(s4)\n",
    "m5, std5 = mean_std_sumBIC(s5)"
   ]
  },
  {
   "cell_type": "code",
   "execution_count": 57,
   "metadata": {},
   "outputs": [
    {
     "data": {
      "text/plain": [
       "-1.4413737004274931"
      ]
     },
     "execution_count": 57,
     "metadata": {},
     "output_type": "execute_result"
    }
   ],
   "source": [
    "m1[m1.index[0]]"
   ]
  },
  {
   "cell_type": "code",
   "execution_count": 58,
   "metadata": {},
   "outputs": [
    {
     "name": "stdout",
     "output_type": "stream",
     "text": [
      "model2-normalgreedy_structure_learning\t-1.4413737004274931\t0.05802673783659447\n",
      "model2-normalorder_optimization\t-1.2366320541782312\t0.005427489015156778\n",
      "model2-normaltabu_structure_learning\t-1.4314347227998299\t0.052931692656688595\n",
      "model2-objorder_optimization\t-1.2421028188350594\t0.003685891709304122\n",
      "truth\t-1.2033459464323475\tnan\n",
      "\n",
      "model2-normalgreedy_structure_learning\t-10.376858888035207\t18.71785209208505\n",
      "model2-normalorder_optimization\t-1.2405370789209904\t0.009061832211023073\n",
      "model2-normaltabu_structure_learning\t-1.3418697911701059\t0.12643633126551496\n",
      "model2-objorder_optimization\t-1.230627794593729\t0.00019505432293863623\n",
      "truth\t-1.2024903578793238\tnan\n",
      "\n",
      "model2-normalgreedy_structure_learning\t-7.73308995410397\t18.22006562029089\n",
      "model2-normalorder_optimization\t-1.240508806720252\t0.008963839575204744\n",
      "model2-normaltabu_structure_learning\t-2.1520621288541912\t1.5174568853610453\n",
      "model2-objorder_optimization\t-1.2417404487168002\t0.002110954652593544\n",
      "truth\t-1.2024903578793238\tnan\n",
      "\n",
      "model2-normalgreedy_structure_learning\t-1.3737887469670518\t0.0909759196467702\n",
      "model2-normalorder_optimization\t-1.2758644250037436\t0.012526016027313795\n",
      "model2-normaltabu_structure_learning\t-1.2966646445540921\t0.0737168984690451\n",
      "model2-objorder_optimization\t-1.2526520280353535\t0.0025717968454905594\n",
      "truth\t-1.2024903578793238\tnan\n",
      "\n",
      "model2-normalgreedy_structure_learning\t-1.3633797434625037\t0.04250467333631628\n",
      "model2-normalorder_optimization\t-1.2277757932997606\t0.004885288066265206\n",
      "model2-normaltabu_structure_learning\t-1.378879670085264\t0.006770032298660617\n",
      "model2-objorder_optimization\t-1.2393131836328939\t0.0017217210453164132\n",
      "truth\t-1.2024903578793238\tnan\n"
     ]
    }
   ],
   "source": [
    "# let's print them in a table\n",
    "indexes = m1.index\n",
    "for i in indexes:\n",
    "    print(f\"{i}\\t{m1[i]}\\t{std1[i]}\")\n",
    "print()\n",
    "for i in indexes:\n",
    "    print(f\"{i}\\t{m2[i]}\\t{std2[i]}\")\n",
    "print()\n",
    "for i in indexes:\n",
    "    print(f\"{i}\\t{m3[i]}\\t{std3[i]}\")\n",
    "print()\n",
    "for i in indexes:\n",
    "    print(f\"{i}\\t{m4[i]}\\t{std4[i]}\")\n",
    "print()\n",
    "for i in indexes:\n",
    "    print(f\"{i}\\t{m5[i]}\\t{std5[i]}\")"
   ]
  },
  {
   "cell_type": "code",
   "execution_count": 59,
   "metadata": {},
   "outputs": [],
   "source": [
    "# output mean & std of edgeAccuracy per model\n",
    "def mean_std_edgeAcc(s):\n",
    "    column_bic = 'edgeAccuracy'\n",
    "    means = s.groupby('model')[column_bic].mean()\n",
    "    stds = s.groupby('model')[column_bic].std()\n",
    "    return means, stds"
   ]
  },
  {
   "cell_type": "code",
   "execution_count": 60,
   "metadata": {},
   "outputs": [],
   "source": [
    "m1, std1 = mean_std_edgeAcc(s1)\n",
    "m2, std2 = mean_std_edgeAcc(s2)\n",
    "m3, std3 = mean_std_edgeAcc(s3)\n",
    "m4, std4 = mean_std_edgeAcc(s4)\n",
    "m5, std5 = mean_std_edgeAcc(s5)"
   ]
  },
  {
   "cell_type": "code",
   "execution_count": 61,
   "metadata": {},
   "outputs": [
    {
     "name": "stdout",
     "output_type": "stream",
     "text": [
      "model2-normalgreedy_structure_learning\t0.4047619047619047\t0.06245920506741786\n",
      "model2-normalorder_optimization\t0.35331632653061223\t0.06441515960035359\n",
      "model2-normaltabu_structure_learning\t0.39795918367346933\t0.07930350705194059\n",
      "model2-objorder_optimization\t0.4951814058956916\t0.04679902447280732\n",
      "truth\t1.0\tnan\n",
      "\n",
      "model2-normalgreedy_structure_learning\t0.33673469387755095\t0.06819706685633817\n",
      "model2-normalorder_optimization\t0.41020408163265304\t0.09047874785399039\n",
      "model2-normaltabu_structure_learning\t0.2897959183673469\t0.059148476515058945\n",
      "model2-objorder_optimization\t0.5857142857142856\t0.009858079419176479\n",
      "truth\t1.0\tnan\n",
      "\n",
      "model2-normalgreedy_structure_learning\t0.3408163265306122\t0.10138108726673005\n",
      "model2-normalorder_optimization\t0.3714285714285714\t0.06856926894342397\n",
      "model2-normaltabu_structure_learning\t0.27755102040816326\t0.07017032358219116\n",
      "model2-objorder_optimization\t0.4877551020408163\t0.03394551006768613\n",
      "truth\t1.0\tnan\n",
      "\n",
      "model2-normalgreedy_structure_learning\t0.4040816326530612\t0.04693384574329344\n",
      "model2-normalorder_optimization\t0.17551020408163262\t0.05626142347791929\n",
      "model2-normaltabu_structure_learning\t0.3877551020408163\t0.03599661647706925\n",
      "model2-objorder_optimization\t0.40816326530612235\t0.013605442176870715\n",
      "truth\t1.0\tnan\n",
      "\n",
      "model2-normalgreedy_structure_learning\t0.4061224489795919\t0.04455652488112329\n",
      "model2-normalorder_optimization\t0.40816326530612246\t0.045124146807556456\n",
      "model2-normaltabu_structure_learning\t0.373469387755102\t0.028941561069636242\n",
      "model2-objorder_optimization\t0.5122448979591836\t0.044556524881123334\n",
      "truth\t1.0\tnan\n"
     ]
    }
   ],
   "source": [
    "indexes = m1.index\n",
    "for i in indexes:\n",
    "    print(f\"{i}\\t{m1[i]}\\t{std1[i]}\")\n",
    "print()\n",
    "for i in indexes:\n",
    "    print(f\"{i}\\t{m2[i]}\\t{std2[i]}\")\n",
    "print()\n",
    "for i in indexes:\n",
    "    print(f\"{i}\\t{m3[i]}\\t{std3[i]}\")\n",
    "print()\n",
    "for i in indexes:\n",
    "    print(f\"{i}\\t{m4[i]}\\t{std4[i]}\")\n",
    "print()\n",
    "for i in indexes:\n",
    "    print(f\"{i}\\t{m5[i]}\\t{std5[i]}\")"
   ]
  },
  {
   "cell_type": "code",
   "execution_count": 62,
   "metadata": {},
   "outputs": [],
   "source": [
    "column_bics = [col for col in s1.columns if 'BIC' in col]\n",
    "column_bics.remove(\"sumBIC\")\n",
    "s1_obj = s1[(s1[\"model\"]==\"model2-objorder_optimization\")][column_bics]\n",
    "s1_ord = s1[(s1[\"model\"]==\"model2-normalorder_optimization\")][column_bics]\n",
    "trueModelScore = s1[s1[\"model\"] == \"truth\"][column_bics]\n",
    "trueModelScore = trueModelScore.iloc[0].sort_values(ascending=False)"
   ]
  },
  {
   "cell_type": "code",
   "execution_count": 63,
   "metadata": {},
   "outputs": [],
   "source": [
    "s1_obj_upper = s1_obj.max()\n",
    "s1_obj_lower = s1_obj.min()\n",
    "s1_obj_mean = s1_obj.mean()\n",
    "s1_obj_std = s1_obj.std().replace(0, np.inf)"
   ]
  },
  {
   "cell_type": "code",
   "execution_count": 50,
   "metadata": {},
   "outputs": [
    {
     "name": "stderr",
     "output_type": "stream",
     "text": [
      "/var/folders/96/2c_hhw8d7sd6zcp25_w_3_rc0000gn/T/ipykernel_910/1499321598.py:9: RuntimeWarning: invalid value encountered in scalar divide\n",
      "  r = 2 * (random_row[sorted_var] - s1_obj_lower[sorted_var]) / (s1_obj_upper[sorted_var] - s1_obj_lower[sorted_var]) - 1\n"
     ]
    }
   ],
   "source": [
    "for j in range(1, 11):\n",
    "    random_ind = j\n",
    "    random_row = s1_obj.iloc[random_ind]\n",
    "    plot_data = []\n",
    "    i = 0\n",
    "    for sorted_var in trueModelScore.index:\n",
    "        u = 1\n",
    "        l = -1\n",
    "        r = 2 * (random_row[sorted_var] - s1_obj_lower[sorted_var]) / (s1_obj_upper[sorted_var] - s1_obj_lower[sorted_var]) - 1\n",
    "        plot_data.append((i, r, l, u))\n",
    "        i += 1\n",
    "    plot_data = np.array(plot_data)\n",
    "    x, means, lowers, uppers = zip(*plot_data)\n",
    "    means = np.nan_to_num(np.array(means))\n",
    "    plt.fill_between(x, lowers, uppers, alpha=0.2)\n",
    "    plt.plot(x, means, marker='o')\n",
    "    plt.ylim(-3, 3)\n",
    "    plt.xlabel(\"variable\")\n",
    "    plt.ylabel(\"normalized BIC score\")\n",
    "    plt.savefig(f\"/Users/mochizukiyosuke/Desktop/University/M2/秋ゼミ/中間合宿/figs/{j}.png\")\n",
    "    plt.close()"
   ]
  },
  {
   "cell_type": "code",
   "execution_count": 68,
   "metadata": {},
   "outputs": [
    {
     "name": "stderr",
     "output_type": "stream",
     "text": [
      "/var/folders/96/2c_hhw8d7sd6zcp25_w_3_rc0000gn/T/ipykernel_910/2356921938.py:10: RuntimeWarning: divide by zero encountered in scalar divide\n",
      "  r = 2 * (random_row[sorted_var] - s1_obj_lower[sorted_var]) / (s1_obj_upper[sorted_var] - s1_obj_lower[sorted_var]) - 1\n",
      "/var/folders/96/2c_hhw8d7sd6zcp25_w_3_rc0000gn/T/ipykernel_910/2356921938.py:10: RuntimeWarning: divide by zero encountered in scalar divide\n",
      "  r = 2 * (random_row[sorted_var] - s1_obj_lower[sorted_var]) / (s1_obj_upper[sorted_var] - s1_obj_lower[sorted_var]) - 1\n",
      "/var/folders/96/2c_hhw8d7sd6zcp25_w_3_rc0000gn/T/ipykernel_910/2356921938.py:10: RuntimeWarning: divide by zero encountered in scalar divide\n",
      "  r = 2 * (random_row[sorted_var] - s1_obj_lower[sorted_var]) / (s1_obj_upper[sorted_var] - s1_obj_lower[sorted_var]) - 1\n",
      "/var/folders/96/2c_hhw8d7sd6zcp25_w_3_rc0000gn/T/ipykernel_910/2356921938.py:10: RuntimeWarning: divide by zero encountered in scalar divide\n",
      "  r = 2 * (random_row[sorted_var] - s1_obj_lower[sorted_var]) / (s1_obj_upper[sorted_var] - s1_obj_lower[sorted_var]) - 1\n",
      "/var/folders/96/2c_hhw8d7sd6zcp25_w_3_rc0000gn/T/ipykernel_910/2356921938.py:10: RuntimeWarning: divide by zero encountered in scalar divide\n",
      "  r = 2 * (random_row[sorted_var] - s1_obj_lower[sorted_var]) / (s1_obj_upper[sorted_var] - s1_obj_lower[sorted_var]) - 1\n",
      "/var/folders/96/2c_hhw8d7sd6zcp25_w_3_rc0000gn/T/ipykernel_910/2356921938.py:10: RuntimeWarning: divide by zero encountered in scalar divide\n",
      "  r = 2 * (random_row[sorted_var] - s1_obj_lower[sorted_var]) / (s1_obj_upper[sorted_var] - s1_obj_lower[sorted_var]) - 1\n",
      "/var/folders/96/2c_hhw8d7sd6zcp25_w_3_rc0000gn/T/ipykernel_910/2356921938.py:10: RuntimeWarning: divide by zero encountered in scalar divide\n",
      "  r = 2 * (random_row[sorted_var] - s1_obj_lower[sorted_var]) / (s1_obj_upper[sorted_var] - s1_obj_lower[sorted_var]) - 1\n",
      "/var/folders/96/2c_hhw8d7sd6zcp25_w_3_rc0000gn/T/ipykernel_910/2356921938.py:10: RuntimeWarning: divide by zero encountered in scalar divide\n",
      "  r = 2 * (random_row[sorted_var] - s1_obj_lower[sorted_var]) / (s1_obj_upper[sorted_var] - s1_obj_lower[sorted_var]) - 1\n",
      "/var/folders/96/2c_hhw8d7sd6zcp25_w_3_rc0000gn/T/ipykernel_910/2356921938.py:10: RuntimeWarning: divide by zero encountered in scalar divide\n",
      "  r = 2 * (random_row[sorted_var] - s1_obj_lower[sorted_var]) / (s1_obj_upper[sorted_var] - s1_obj_lower[sorted_var]) - 1\n",
      "/var/folders/96/2c_hhw8d7sd6zcp25_w_3_rc0000gn/T/ipykernel_910/2356921938.py:10: RuntimeWarning: divide by zero encountered in scalar divide\n",
      "  r = 2 * (random_row[sorted_var] - s1_obj_lower[sorted_var]) / (s1_obj_upper[sorted_var] - s1_obj_lower[sorted_var]) - 1\n"
     ]
    }
   ],
   "source": [
    "for j in range(0, 10):\n",
    "    s3_obj = s3[s3[\"model\"]==\"model2-objorder_optimization\"][column_bics]\n",
    "    random_ind = j\n",
    "    random_row = s3_obj.iloc[random_ind]\n",
    "    plot_data = []\n",
    "    i = 0\n",
    "    for sorted_var in trueModelScore.index:\n",
    "        u = 1\n",
    "        l = -1\n",
    "        r = 2 * (random_row[sorted_var] - s1_obj_lower[sorted_var]) / (s1_obj_upper[sorted_var] - s1_obj_lower[sorted_var]) - 1\n",
    "        plot_data.append((i, r, l, u))\n",
    "        i += 1\n",
    "    x, means, lowers, uppers = zip(*plot_data)\n",
    "    means = np.array(means)\n",
    "    means[(means < -5)|(means > 5)] = 0\n",
    "    plt.fill_between(x, lowers, uppers, alpha=0.2)\n",
    "    plt.plot(x, means, marker='o', color=\"blue\")\n",
    "    plt.ylim(-3, 3)\n",
    "    plt.xlabel(\"variable\")\n",
    "    plt.ylabel(\"normalized BIC score\")\n",
    "    plt.savefig(f\"/Users/mochizukiyosuke/Desktop/University/M2/秋ゼミ/中間合宿/figs/deeppre_{j}.png\")\n",
    "    plt.close()"
   ]
  },
  {
   "cell_type": "code",
   "execution_count": 137,
   "metadata": {},
   "outputs": [
    {
     "data": {
      "text/plain": [
       "age_BIC                      7.826739e+02\n",
       "gender_BIC                   4.314785e+02\n",
       "education_BIC                9.079122e+02\n",
       "license_BIC                  1.497525e+03\n",
       "access_BIC                   1.682691e+03\n",
       "income_BIC                   7.274950e+02\n",
       "employed_BIC                 7.988578e+02\n",
       "trip1_BIC                    5.267127e+02\n",
       "tDur1_BIC                    2.946761e+02\n",
       "act2_BIC                     2.611405e+02\n",
       "aDur2_BIC                    3.650677e-12\n",
       "trip2_BIC                    3.111733e+02\n",
       "tDur2_BIC                    7.668924e+02\n",
       "act3_BIC                     1.425876e+03\n",
       "aDur3_BIC                    1.456801e+03\n",
       "trip3_BIC                    3.399130e+02\n",
       "tDur3_BIC                    5.888751e+02\n",
       "Totaltripduration_BIC        3.650677e-12\n",
       "act4_BIC                     3.765615e+02\n",
       "aDur4_BIC                             inf\n",
       "trip4_BIC                    4.404665e+02\n",
       "tDur4_BIC                    7.123522e+02\n",
       "Totalactivityduration_BIC    7.301354e-12\n",
       "act5_BIC                     1.372389e+03\n",
       "aDur5_BIC                    1.374197e+03\n",
       "trip5_BIC                    6.040865e+02\n",
       "tDur5_BIC                    5.337842e+02\n",
       "act6_BIC                     3.469148e+02\n",
       "aDur6_BIC                    3.454817e+02\n",
       "trip6_BIC                    3.171187e+02\n",
       "tDur6_BIC                    2.144467e+02\n",
       "act7_BIC                     8.977095e+02\n",
       "aDur7_BIC                    6.809622e+02\n",
       "dtype: float64"
      ]
     },
     "execution_count": 137,
     "metadata": {},
     "output_type": "execute_result"
    }
   ],
   "source": [
    "s1_obj_std"
   ]
  },
  {
   "cell_type": "code",
   "execution_count": 69,
   "metadata": {},
   "outputs": [],
   "source": [
    "from PIL import Image"
   ]
  },
  {
   "cell_type": "code",
   "execution_count": 77,
   "metadata": {},
   "outputs": [],
   "source": [
    "pictures=[]\n",
    "#画像を箱に入れていく\n",
    "for i in range(0, 10):\n",
    "    pic_name=f\"/Users/mochizukiyosuke/Desktop/University/M2/秋ゼミ/中間合宿/figs/deeppre_{i}.png\"\n",
    "    img = Image.open(pic_name)\n",
    "    pictures.append(img)\n",
    "#gifアニメを出力する\n",
    "pictures[0].save(\"/Users/mochizukiyosuke/Desktop/University/M2/秋ゼミ/中間合宿/figs/deeppre.gif\",save_all=True, append_images=pictures[1:], optimize=True, duration=1000, loop=0)"
   ]
  },
  {
   "cell_type": "code",
   "execution_count": null,
   "metadata": {},
   "outputs": [],
   "source": []
  }
 ],
 "metadata": {
  "kernelspec": {
   "display_name": "oobn",
   "language": "python",
   "name": "python3"
  },
  "language_info": {
   "codemirror_mode": {
    "name": "ipython",
    "version": 3
   },
   "file_extension": ".py",
   "mimetype": "text/x-python",
   "name": "python",
   "nbconvert_exporter": "python",
   "pygments_lexer": "ipython3",
   "version": "3.11.5"
  }
 },
 "nbformat": 4,
 "nbformat_minor": 2
}
